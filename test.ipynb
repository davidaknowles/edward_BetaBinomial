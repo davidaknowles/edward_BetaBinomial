{
 "cells": [
  {
   "cell_type": "code",
   "execution_count": 2,
   "metadata": {},
   "outputs": [
    {
     "ename": "TypeError",
     "evalue": "super(type, obj): obj must be an instance or subtype of type",
     "output_type": "error",
     "traceback": [
      "\u001b[0;31m---------------------------------------------------------------------------\u001b[0m",
      "\u001b[0;31mTypeError\u001b[0m                                 Traceback (most recent call last)",
      "\u001b[0;32m<ipython-input-2-da9e4d56f9a8>\u001b[0m in \u001b[0;36m<module>\u001b[0;34m()\u001b[0m\n\u001b[1;32m     43\u001b[0m \u001b[0;31m#                      scale=tf.nn.softplus(tf.get_variable(\"qp/scale\", [])))\u001b[0m\u001b[0;34m\u001b[0m\u001b[0;34m\u001b[0m\u001b[0m\n\u001b[1;32m     44\u001b[0m qp = Kumaraswamy(concentration1=tf.nn.softplus(tf.get_variable(\"qp/conc1\", initializer=1.)), \n\u001b[0;32m---> 45\u001b[0;31m                  concentration0=tf.nn.softplus(tf.get_variable(\"qp/conc0\", initializer=1.)))\n\u001b[0m\u001b[1;32m     46\u001b[0m \u001b[0;34m\u001b[0m\u001b[0m\n\u001b[1;32m     47\u001b[0m qconc = ed.models.Normal(loc=tf.get_variable(\"qconc/loc\", []), \n",
      "\u001b[0;32m/Users/davidknowles/Dropbox/edward_BetaBinomial/edward_additions/kumaraswamy.py\u001b[0m in \u001b[0;36m__init__\u001b[0;34m(self, *args, **kwargs)\u001b[0m\n\u001b[1;32m    341\u001b[0m \u001b[0;34m\u001b[0m\u001b[0m\n\u001b[1;32m    342\u001b[0m \u001b[0;32mdef\u001b[0m \u001b[0m__init__\u001b[0m\u001b[0;34m(\u001b[0m\u001b[0mself\u001b[0m\u001b[0;34m,\u001b[0m \u001b[0;34m*\u001b[0m\u001b[0margs\u001b[0m\u001b[0;34m,\u001b[0m \u001b[0;34m**\u001b[0m\u001b[0mkwargs\u001b[0m\u001b[0;34m)\u001b[0m\u001b[0;34m:\u001b[0m\u001b[0;34m\u001b[0m\u001b[0m\n\u001b[0;32m--> 343\u001b[0;31m   \u001b[0mRandomVariable\u001b[0m\u001b[0;34m.\u001b[0m\u001b[0m__init__\u001b[0m\u001b[0;34m(\u001b[0m\u001b[0mself\u001b[0m\u001b[0;34m,\u001b[0m \u001b[0;34m*\u001b[0m\u001b[0margs\u001b[0m\u001b[0;34m,\u001b[0m \u001b[0;34m**\u001b[0m\u001b[0mkwargs\u001b[0m\u001b[0;34m)\u001b[0m\u001b[0;34m\u001b[0m\u001b[0m\n\u001b[0m\u001b[1;32m    344\u001b[0m \u001b[0;34m\u001b[0m\u001b[0m\n\u001b[1;32m    345\u001b[0m \u001b[0m_name\u001b[0m \u001b[0;34m=\u001b[0m \u001b[0;34m'Kumaraswamy'\u001b[0m\u001b[0;34m\u001b[0m\u001b[0m\n",
      "\u001b[0;32m/Users/davidknowles/edward/lib/python2.7/site-packages/edward/models/random_variable.pyc\u001b[0m in \u001b[0;36m__init__\u001b[0;34m(self, *args, **kwargs)\u001b[0m\n\u001b[1;32m    110\u001b[0m       \u001b[0mself\u001b[0m\u001b[0;34m.\u001b[0m\u001b[0m_kwargs\u001b[0m\u001b[0;34m[\u001b[0m\u001b[0;34m'collections'\u001b[0m\u001b[0;34m]\u001b[0m \u001b[0;34m=\u001b[0m \u001b[0mcollections\u001b[0m\u001b[0;34m\u001b[0m\u001b[0m\n\u001b[1;32m    111\u001b[0m \u001b[0;34m\u001b[0m\u001b[0m\n\u001b[0;32m--> 112\u001b[0;31m     \u001b[0msuper\u001b[0m\u001b[0;34m(\u001b[0m\u001b[0mRandomVariable\u001b[0m\u001b[0;34m,\u001b[0m \u001b[0mself\u001b[0m\u001b[0;34m)\u001b[0m\u001b[0;34m.\u001b[0m\u001b[0m__init__\u001b[0m\u001b[0;34m(\u001b[0m\u001b[0;34m*\u001b[0m\u001b[0margs\u001b[0m\u001b[0;34m,\u001b[0m \u001b[0;34m**\u001b[0m\u001b[0mkwargs\u001b[0m\u001b[0;34m)\u001b[0m\u001b[0;34m\u001b[0m\u001b[0m\n\u001b[0m\u001b[1;32m    113\u001b[0m \u001b[0;34m\u001b[0m\u001b[0m\n\u001b[1;32m    114\u001b[0m     \u001b[0mself\u001b[0m\u001b[0;34m.\u001b[0m\u001b[0m_sample_shape\u001b[0m \u001b[0;34m=\u001b[0m \u001b[0mtf\u001b[0m\u001b[0;34m.\u001b[0m\u001b[0mTensorShape\u001b[0m\u001b[0;34m(\u001b[0m\u001b[0msample_shape\u001b[0m\u001b[0;34m)\u001b[0m\u001b[0;34m\u001b[0m\u001b[0m\n",
      "\u001b[0;32m/Users/davidknowles/Dropbox/edward_BetaBinomial/edward_additions/kumaraswamy.py\u001b[0m in \u001b[0;36m__init__\u001b[0;34m(self, concentration1, concentration0, validate_args, allow_nan_stats, name)\u001b[0m\n\u001b[1;32m    269\u001b[0m         bijector=bijectors_Kumaraswamy(\n\u001b[1;32m    270\u001b[0m             \u001b[0mconcentration1\u001b[0m\u001b[0;34m=\u001b[0m\u001b[0mconcentration1\u001b[0m\u001b[0;34m,\u001b[0m \u001b[0mconcentration0\u001b[0m\u001b[0;34m=\u001b[0m\u001b[0mconcentration0\u001b[0m\u001b[0;34m,\u001b[0m\u001b[0;34m\u001b[0m\u001b[0m\n\u001b[0;32m--> 271\u001b[0;31m             validate_args=validate_args),\n\u001b[0m\u001b[1;32m    272\u001b[0m         batch_shape=distribution_util.get_broadcast_shape(\n\u001b[1;32m    273\u001b[0m             concentration1, concentration0),\n",
      "\u001b[0;32m/Users/davidknowles/Dropbox/edward_BetaBinomial/edward_additions/kumaraswamy.py\u001b[0m in \u001b[0;36m__init__\u001b[0;34m(self, concentration1, concentration0, validate_args, name)\u001b[0m\n\u001b[1;32m     93\u001b[0m     \u001b[0mself\u001b[0m\u001b[0;34m.\u001b[0m\u001b[0m_concentration1\u001b[0m \u001b[0;34m=\u001b[0m \u001b[0mconcentration1\u001b[0m\u001b[0;34m\u001b[0m\u001b[0m\n\u001b[1;32m     94\u001b[0m     \u001b[0mself\u001b[0m\u001b[0;34m.\u001b[0m\u001b[0m_concentration0\u001b[0m \u001b[0;34m=\u001b[0m \u001b[0mconcentration0\u001b[0m\u001b[0;34m\u001b[0m\u001b[0m\n\u001b[0;32m---> 95\u001b[0;31m     super(Kumaraswamy, self).__init__(\n\u001b[0m\u001b[1;32m     96\u001b[0m         \u001b[0mforward_min_event_ndims\u001b[0m\u001b[0;34m=\u001b[0m\u001b[0;36m0\u001b[0m\u001b[0;34m,\u001b[0m\u001b[0;34m\u001b[0m\u001b[0m\n\u001b[1;32m     97\u001b[0m         \u001b[0mvalidate_args\u001b[0m\u001b[0;34m=\u001b[0m\u001b[0mvalidate_args\u001b[0m\u001b[0;34m,\u001b[0m\u001b[0;34m\u001b[0m\u001b[0m\n",
      "\u001b[0;31mTypeError\u001b[0m: super(type, obj): obj must be an instance or subtype of type"
     ]
    }
   ],
   "source": [
    "from __future__ import absolute_import\n",
    "from __future__ import division\n",
    "from __future__ import print_function\n",
    "\n",
    "import numpy as np\n",
    "\n",
    "import tensorflow as tf\n",
    "from tensorflow.contrib.distributions import bijectors\n",
    "\n",
    "from edward_additions.betabinomial import BetaBinomial\n",
    "from edward_additions.kumaraswamy import Kumaraswamy\n",
    "\n",
    "import edward as ed\n",
    "import edward.models\n",
    "\n",
    "tf.reset_default_graph()\n",
    "sess = tf.InteractiveSession()\n",
    "\n",
    "# GENERATE DATA\n",
    "total_count=30\n",
    "n_samples=100\n",
    "p_true=0.05\n",
    "true_conc=3.\n",
    "p_noisy = np.random.beta(p_true * true_conc, \n",
    "                         (1.-p_true) * true_conc, \n",
    "                         size=n_samples)\n",
    "x_data = np.random.binomial(p=p_noisy, \n",
    "                            n=total_count).astype(np.float32)\n",
    "\n",
    "# MODEL\n",
    "p = ed.models.Beta(1.0, 1.0)\n",
    "#conc_param = tf.get_variable('conc_param', initializer=10.)\n",
    "conc_param = ed.models.Gamma(2., 1.)\n",
    "x = BetaBinomial(total_count=tf.to_float(total_count),\n",
    "                 probs=p, \n",
    "                 concentrations=conc_param * tf.ones(n_samples, dtype=np.float32),\n",
    "                 sample_shape=n_samples, \n",
    "                 value=tf.zeros(n_samples, dtype=\"float32\"))\n",
    "\n",
    "# INFERENCE\n",
    "#qp = edward.models.BetaWithSoftplusConcentration(tf.Variable(1.), tf.Variable(1.))\n",
    "#qp = ed.models.Normal(loc=tf.get_variable(\"qp/loc\", []), \n",
    "#                      scale=tf.nn.softplus(tf.get_variable(\"qp/scale\", [])))\n",
    "qp = Kumaraswamy(concentration1=tf.nn.softplus(tf.get_variable(\"qp/conc1\", initializer=1.)), \n",
    "                 concentration0=tf.nn.softplus(tf.get_variable(\"qp/conc0\", initializer=1.)))\n",
    "\n",
    "qconc = ed.models.Normal(loc=tf.get_variable(\"qconc/loc\", []), \n",
    "                         scale=tf.nn.softplus(tf.get_variable(\"qconc/scale\", [])))\n",
    "\n",
    "inference = ed.KLqp({p: qp, conc_param: qconc}, data={x: x_data})\n",
    "inference.run()\n",
    "\n",
    "# PRINT RESULTS\n",
    "qp_samples = ed.transform(\n",
    "    qp, \n",
    "    bijectors.Invert(\n",
    "        inference.transformations[p].bijector)).sample(100).eval()\n",
    "\n",
    "print( \"True prob success: {:.2f}, inferred {:.3f} +- {:.2f}\".format(\n",
    "    p_true, \n",
    "    qp_samples.mean(),\n",
    "    np.sqrt(qp_samples.var())) )\n",
    "\n",
    "qconc_samples = ed.transform(\n",
    "    qconc, \n",
    "    bijectors.Invert(\n",
    "        inference.transformations[conc_param].bijector)).sample(100).eval()\n",
    "\n",
    "print(\"True concentration: {:.2f}, Inferred: {:.3f} +- {:.2f}\".format(\n",
    "    true_conc,\n",
    "    qconc_samples.mean(),\n",
    "    np.sqrt(qconc_samples.var())) )"
   ]
  },
  {
   "cell_type": "code",
   "execution_count": null,
   "metadata": {},
   "outputs": [],
   "source": []
  },
  {
   "cell_type": "code",
   "execution_count": null,
   "metadata": {},
   "outputs": [],
   "source": []
  }
 ],
 "metadata": {
  "kernelspec": {
   "display_name": "Python 2",
   "language": "python",
   "name": "python2"
  },
  "language_info": {
   "codemirror_mode": {
    "name": "ipython",
    "version": 2
   },
   "file_extension": ".py",
   "mimetype": "text/x-python",
   "name": "python",
   "nbconvert_exporter": "python",
   "pygments_lexer": "ipython2",
   "version": "2.7.10"
  }
 },
 "nbformat": 4,
 "nbformat_minor": 2
}
